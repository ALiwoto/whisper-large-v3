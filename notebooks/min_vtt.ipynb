{
  "cells": [
    {
      "cell_type": "markdown",
      "metadata": {
        "id": "view-in-github",
        "colab_type": "text"
      },
      "source": [
        "<a href=\"https://colab.research.google.com/github/ALiwoto/whisper-large-v3/blob/master/notebooks/min_vtt.ipynb\" target=\"_parent\"><img src=\"https://colab.research.google.com/assets/colab-badge.svg\" alt=\"Open In Colab\"/></a>"
      ]
    },
    {
      "cell_type": "code",
      "source": [
        "# to install huggingface/transformers:\n",
        "!pip install git+https://github.com/huggingface/transformers gradio"
      ],
      "metadata": {
        "id": "wsQYxpajbCKf"
      },
      "execution_count": null,
      "outputs": []
    },
    {
      "cell_type": "code",
      "execution_count": null,
      "metadata": {
        "id": "4gjrHAV0a7uF"
      },
      "outputs": [],
      "source": [
        "import torch\n",
        "from transformers import pipeline\n",
        "\n",
        "pipe = pipeline(\"automatic-speech-recognition\",\n",
        "               \"openai/whisper-large-v3\",\n",
        "               torch_dtype=torch.float16,\n",
        "               device=\"cuda:0\")"
      ]
    },
    {
      "cell_type": "code",
      "execution_count": null,
      "metadata": {
        "id": "Wv-ex8ira7uF"
      },
      "outputs": [],
      "source": [
        "# converting with ffmpeg (remove the # at the beginning of the line):\n",
        "\n",
        "# !ffmpeg -i sample.ogg -acodec libmp3lame sample.mp3 -y (ogg to mp3)\n",
        "\n",
        "# !ffmpeg -i sample3.m4a -c:v copy -c:a libmp3lame -q:a 4 sample3.mp3 -y (m4a to mp3)"
      ]
    },
    {
      "cell_type": "code",
      "execution_count": null,
      "metadata": {
        "id": "v5StJVdea7uG"
      },
      "outputs": [],
      "source": [
        "sample_result = pipe(\"./sample.mp3\")\n",
        "print(sample_result)\n",
        "\n",
        "# create a file called output.txt and write sample_result['text'] inside of it\n",
        "with open('output.txt', 'w') as f:\n",
        "    f.write(sample_result['text'])\n",
        "\n",
        "# later on, you can just download the file from file panel in Colab"
      ]
    }
  ],
  "metadata": {
    "language_info": {
      "name": "python"
    },
    "colab": {
      "provenance": [],
      "include_colab_link": true
    }
  },
  "nbformat": 4,
  "nbformat_minor": 0
}