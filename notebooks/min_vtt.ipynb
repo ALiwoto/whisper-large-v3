{
 "cells": [
  {
   "cell_type": "code",
   "execution_count": null,
   "metadata": {},
   "outputs": [],
   "source": [
    "import torch\n",
    "from transformers import pipeline\n",
    "\n",
    "pipe = pipeline(\"automatic-speech-recognition\",\n",
    "               \"openai/whisper-large-v3\",\n",
    "               torch_dtype=torch.float16,\n",
    "               device=\"cuda:0\")"
   ]
  },
  {
   "cell_type": "code",
   "execution_count": null,
   "metadata": {},
   "outputs": [],
   "source": [
    "# converting with ffmpeg (remove the # at the beginning of the line):\n",
    "\n",
    "# !ffmpeg -i sample.ogg -acodec libmp3lame sample.mp3 -y (ogg to mp3)\n",
    "\n",
    "# !ffmpeg -i sample3.m4a -c:v copy -c:a libmp3lame -q:a 4 sample3.mp3 -y (m4a to mp3)"
   ]
  },
  {
   "cell_type": "code",
   "execution_count": null,
   "metadata": {},
   "outputs": [],
   "source": [
    "sample_result = pipe(\"./sample.mp3\")\n",
    "print(sample_result)\n",
    "\n",
    "# create a file called output.txt and write sample_result['text'] inside of it\n",
    "with open('output.txt', 'w') as f:\n",
    "    f.write(sample_result['text'])\n",
    "\n",
    "# later on, you can just download the file from file panel in Colab"
   ]
  }
 ],
 "metadata": {
  "language_info": {
   "name": "python"
  }
 },
 "nbformat": 4,
 "nbformat_minor": 2
}
